{
  "nbformat": 4,
  "nbformat_minor": 0,
  "metadata": {
    "colab": {
      "provenance": []
    },
    "kernelspec": {
      "name": "python3",
      "display_name": "Python 3"
    },
    "language_info": {
      "name": "python"
    }
  },
  "cells": [
    {
      "cell_type": "code",
      "execution_count": null,
      "metadata": {
        "id": "X2fhfmikIue7"
      },
      "outputs": [],
      "source": [
        "#Q  Explain the different types of data (qualitative and quantitative) and provide examples of each. Discuss nominal, ordinal, interval, and ratio scales.\n",
        "#   Types of Data--\n",
        "#   1. Qualitative Data-- This type of data describes qualities or characteristics and cannot be measured numerically. It is used to categorize or label attributes.\n",
        "#                         Ex- Hair color (black, brown, blonde), Marital status (single, married), Eye color\n",
        "#   2. Quantitative Data-- This data type represents measurable quantities and is expressed in numbers.\n",
        "#                          Ex- Age (25 years), Height (170 cm), Temperature (22°C)\n",
        "\n",
        "#   Nominal Scale-- Data is classified into categories with no inherent order. It is Qualitative type.\n",
        "#                   Examples: Gender (male, female), Blood type (A, B, AB, O), Nationality\n",
        "\n",
        "#   Ordinal Scale-- Data is classified into categories that have a logical order, but the differences between ranks are not measurable. It is Qualitative type.\n",
        "#                   Examples: Customer satisfaction (satisfied, neutral, dissatisfied), Education level (high school, bachelor's, master's)\n",
        "\n",
        "#   Interval Scale-- Numerical data where the differences between values are meaningful, but there is no true zero point.It is Quantitative type.\n",
        "#                    Examples: Temperature in Celsius or Fahrenheit (0°C ≠ absence of temperature), IQ scores\n",
        "\n",
        "#   Ratio Scale-- Similar to the interval scale, but has a true zero, allowing for the calculation of ratios. It is Quantitative type.\n",
        "#                 Examples: Height, weight, age, income, distance, time"
      ]
    },
    {
      "cell_type": "code",
      "source": [
        "#Q What are the measures of central tendency, and when should you use each? Discuss the mean, median, and mode with examples and situations where each is appropriate?\n",
        "#  Measures of central tendency help us summarize a set of data with a single representative value.\n",
        "#  1. Mean- The mean is the sum of all values divided by the number of values.\n",
        "#           Formula: Mean= Sum of all values / number of values\n",
        "#           Example: Test scores: 70, 80, 90\n",
        "#                     Mean = (70 + 80 + 90) ÷ 3 = 240 ÷ 3 = 80\n",
        "#  2. Median- The median is the middle value in a sorted dataset. If there’s an even number of values, it’s the average of the two middle values.\n",
        "#             Data: 10, 20, 30, 40, 100\n",
        "#             Sorted: 10, 20, 30, 40, 100 → Median = 30\n",
        "#             If Even Number of Values:\n",
        "#             Data: 10, 20, 30, 40\n",
        "#             Median = (20 + 30)/2 = 25\n",
        "#  3. Mode- The mode is the value that occurs most frequently in a dataset.\n",
        "#           Example: Data= 2, 4, 4, 6, 7\n",
        "#                   Mode = 4"
      ],
      "metadata": {
        "id": "AeQXYEjZK97y"
      },
      "execution_count": null,
      "outputs": []
    },
    {
      "cell_type": "code",
      "source": [
        "#Q  Explain the concept of dispersion. How do variance and standard deviation measure the spread of data?\n",
        "#   Dispersion refers to the extent to which data values vary or spread out from the central value (like the mean). It gives insight into the consistency or variability in a dataset.\n",
        "#   If data points are close together, dispersion is low. If data points are spread out, dispersion is high."
      ],
      "metadata": {
        "id": "yOZTPMXPMq9U"
      },
      "execution_count": null,
      "outputs": []
    },
    {
      "cell_type": "code",
      "source": [
        "#Q What is a box plot, and what can it tell you about the distribution of data?\n",
        "#  A box plot is a visual summary of a set of data that shows its distribution, central value, and variability. It's especially useful for identifying outliers and comparing distributions between different groups.\n",
        "#  Spread of the data: The length of the box (IQR) shows how spread out the middle 50% of the data is.\n",
        "#  Central tendency: The line inside the box marks the median — a good indicator of the dataset’s center.\n",
        "#  Skewness: If the median is not centered in the box, or the whiskers are uneven, the data may be skewed.\n",
        "#  Outliers: Individual points plotted beyond the whiskers indicate outliers."
      ],
      "metadata": {
        "id": "kjd89mpPcu6i"
      },
      "execution_count": null,
      "outputs": []
    },
    {
      "cell_type": "code",
      "source": [
        "#Q Discuss the role of random sampling in making inferences about populations.\n",
        "#  Random sampling plays a crucial role in making accurate and reliable inferences about populations in statistics.\n",
        "#  It’s a method where every individual in a population has an equal chance of being selected. This helps ensure the sample represents the entire population fairly.\n",
        "#  It’s Importance for Inference---\n",
        "#     Reduces Bias: Random sampling avoids systematic favoritism, so the results aren't skewed.\n",
        "#     Increases Representativeness: A good random sample reflects the diversity and characteristics of the whole population.\n",
        "#     Supports Valid Statistical Testing: Many statistical techniques assume random sampling — it’s key for accurate estimates, confidence intervals, and hypothesis tests."
      ],
      "metadata": {
        "id": "UhBAMGmMsd_p"
      },
      "execution_count": null,
      "outputs": []
    },
    {
      "cell_type": "code",
      "source": [
        "#Q  Explain the concept of skewness and its types. How does skewness affect the interpretation of data?\n",
        "#   Skewness is a measure of the asymmetry of a data distribution. It tells you whether the data values are more spread out on one side of the mean than the other.\n",
        "\n",
        "#   Types of Skewness: 1) Positive Skew (Right Skew)-- Tail extends to the right (toward higher values)\n",
        "#                      2) Negative Skew (Left Skew)-- Tail extends to the left (toward lower values)\n",
        "#                      3)Zero Skew (Symmetrical)-- Data is evenly distributed around the mean\n",
        "\n",
        "#    How Skewness Affects Interpretation:\n",
        "#    Averages can be misleading: In skewed data, the mean is pulled in the direction of the tail, so it might not represent the “typical” value well.\n",
        "#    Statistical assumptions: Many statistical methods assume normality; skewed data might require transformation or non-parametric methods.\n",
        "#    Insight into the data’s nature: Skewness helps you understand trends — e.g., a right-skewed sales graph might indicate a few big spenders."
      ],
      "metadata": {
        "id": "c7UBTdfFtANB"
      },
      "execution_count": null,
      "outputs": []
    },
    {
      "cell_type": "code",
      "source": [
        "#Q What is the interquartile range (IQR), and how is it used to detect outliers?\n",
        "#  The Interquartile Range (IQR) is a measure of statistical spread, showing the range of the middle 50% of a dataset.\n",
        "#  Formula- IQR=Q3−Q1\n",
        "#           Q1 (First Quartile): 25% of the data lies below this value\n",
        "#           Q3 (Third Quartile): 75% of the data lies below this value\n",
        "\n",
        "#  How IQR is Used to Detect Outliers: Outliers are values that fall far outside the typical range of data. Using IQR, we define outliers as:\n",
        "#           Lower outliers: Value<Q1−1.5×IQR\n",
        "#           Upper outliers: Value>Q3+1.5×IQR"
      ],
      "metadata": {
        "id": "76splFjQt0s_"
      },
      "execution_count": null,
      "outputs": []
    },
    {
      "cell_type": "code",
      "source": [
        "#Q Discuss the conditions under which the binomial distribution is used.\n",
        "#  Conditions for Using the Binomial Distribution:\n",
        "#  Fixed Number of Trials (n): The experiment is repeated a set number of times.\n",
        "#  Two Outcomes per Trial: Each trial results in either a success or a failure (binary outcome).\n",
        "#  Constant Probability (p): The probability of success stays the same in every trial.\n",
        "#  Independent Trials: The outcome of one trial does not affect the others."
      ],
      "metadata": {
        "id": "ozSeX5gRunJ3"
      },
      "execution_count": null,
      "outputs": []
    },
    {
      "cell_type": "code",
      "source": [
        "#Q  Explain the properties of the normal distribution and the empirical rule (68-95-99.7 rule).\n",
        "#   Properties of the Normal Distribution--\n",
        "#   1. Bell-Shaped & Symmetrical: The curve is perfectly symmetrical around the mean.\n",
        "#   2. Mean = Median = Mode: All three are located at the center of the distribution.\n",
        "#   3. Tails Extend Infinitely: The curve approaches the x-axis but never actually touches it.\n",
        "#   4. Defined by Mean (μ) and Standard Deviation (σ):\n",
        "#      μ (mu): determines the center\n",
        "#      σ (sigma): determines the spread\n",
        "#   5. Most Data Near the Mean: Values closer to the mean are more likely than extreme values.\n",
        "\n",
        "#  Empirical Rule (68-95-99.7 Rule): This rule applies to normal distributions and describes how data is spread in terms of standard deviations from the mean.\n",
        "#  68% of the data falls within 1 standard deviation of the mean  → (μ ± 1σ)\n",
        "#  95% falls within 2 standard deviations  → (μ ± 2σ)\n",
        "#  99.7% falls within 3 standard deviations  → (μ ± 3σ)"
      ],
      "metadata": {
        "id": "q_Pp25MavRVg"
      },
      "execution_count": null,
      "outputs": []
    },
    {
      "cell_type": "code",
      "source": [
        "#Q  Provide a real-life example of a Poisson process and calculate the probability for a specific event.\n",
        "#  Example: A call center receives an average of 4 calls per hour. What is the probability that they receive exactly 2 calls in the next hour?\n",
        "#  Poisson Formula: P(X=k) = e(power -λ) λ(power k)/ k!\n",
        "#                   λ = 4 (average rate per hour)\n",
        "#                   k = 2 (number of events)\n",
        "#                   e ≈ 2.718\n",
        "\n",
        "#                   P(X=2) = 0.1464\n",
        "#   There’s a 14.64% chance the call center gets exactly 2 calls in one hour."
      ],
      "metadata": {
        "id": "7xwDXigkwSxK"
      },
      "execution_count": null,
      "outputs": []
    },
    {
      "cell_type": "code",
      "source": [
        "#Q Explain what a random variable is and differentiate between discrete and continuous random variables.\n",
        "#  A random variable is a numerical value that represents the outcome of a random process or experiment.\n",
        "#  It assigns a number to each possible outcome — for example, the number of heads when flipping a coin three times.\n",
        "#  1. Discrete Random Variable-- Takes specific, countable values (like 0, 1, 2, ...)\n",
        "#                                Often from counting events\n",
        "#                                Example- Number of students in a class\n",
        "#  2. Continuous Random Variable-- Takes any value within a given range or interval (can be decimal or fractional)\n",
        "#                                  Comes from measuring\n",
        "#                                  Example- Height of people"
      ],
      "metadata": {
        "id": "foJHDTgOxqUs"
      },
      "execution_count": null,
      "outputs": []
    },
    {
      "cell_type": "code",
      "source": [
        "#Q Provide an example dataset, calculate both covariance and correlation, and interpret the results.\n",
        "#  X(study Hourse): 2, 4, 6, 8, 10\n",
        "#  Y(Test Score): 65, 70, 75, 80, 85, 95\n",
        "#  Step 1: Find Means\n",
        "#          Mean of X = (2 + 4 + 6 + 8 + 10) / 5 = 6\n",
        "#          Mean of Y = (65 + 70 + 75 + 85 + 95) / 5 = 78\n",
        "# Step 2: Find Covariance\n",
        "#         (52 + 16 + 0 + 14 + 68) / 4 = 37.5\n",
        "#         Covariance = 37.5 → Positive relationship\n",
        "# Step 3: Find Correlation\n",
        "#         37.5/3.16×12.61 = 0.94\n",
        "#         Correlation ≈ 0.94 → Strong positive linear correlation"
      ],
      "metadata": {
        "id": "mlU3Zz5SyQHX"
      },
      "execution_count": null,
      "outputs": []
    }
  ]
}